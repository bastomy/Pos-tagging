{
 "cells": [
  {
   "cell_type": "code",
   "execution_count": 1,
   "metadata": {},
   "outputs": [],
   "source": [
    "import csv\n",
    "import pandas as pd\n",
    "import nltk"
   ]
  },
  {
   "cell_type": "code",
   "execution_count": 2,
   "metadata": {},
   "outputs": [],
   "source": [
    "traing_set_tag =[]\n",
    "traing_set_word=[]\n",
    "with open('./corpus/training_set.tsv') as tsvfile:\n",
    "    reader = csv.reader(tsvfile, delimiter='\\t')\n",
    "    for row in reader:\n",
    "        if row:\n",
    "            traing_set_word.append(row[0].casefold())\n",
    "            traing_set_tag.append(row[1])"
   ]
  },
  {
   "cell_type": "code",
   "execution_count": 3,
   "metadata": {},
   "outputs": [],
   "source": [
    "def tokenizing(kalimat):\n",
    "    return nltk.word_tokenize(kalimat)"
   ]
  },
  {
   "cell_type": "code",
   "execution_count": 64,
   "metadata": {},
   "outputs": [],
   "source": [
    "def tagging (kalimat):\n",
    "    result=[]\n",
    "    token = tokenizing(kalimat.casefold())\n",
    "    for i in range(len(token)):\n",
    "        if token[i] in traing_set_word:\n",
    "            indices = [j for j, x in enumerate(traing_set_word) if x == token[i]]\n",
    "            list_tag=[]\n",
    "            num_tag=[]\n",
    "            for k in indices:\n",
    "                if traing_set_tag[k] in list_tag:\n",
    "                    index = list_tag.index(traing_set_tag[k])\n",
    "                    num_tag[index] = num_tag[index]+1\n",
    "                else:\n",
    "                    list_tag.append(traing_set_tag[k])\n",
    "                    num_tag.append(1)\n",
    "            max_num = max(num_tag)\n",
    "            index_num = num_tag.index(max_num)\n",
    "            result.append([token[i],list_tag[index_num]])\n",
    "            list_tag.clear()\n",
    "            num_tag.clear()\n",
    "    return result"
   ]
  },
  {
   "cell_type": "code",
   "execution_count": 65,
   "metadata": {},
   "outputs": [],
   "source": [
    "kalimat = \"Demikian pula laba usaha perseroan, dalam waktu yang sama terangkat dari semula Rp 3,67 miliar menjadi Rp 19,65 miliar\"  "
   ]
  },
  {
   "cell_type": "code",
   "execution_count": 66,
   "metadata": {},
   "outputs": [
    {
     "data": {
      "text/plain": [
       "[['demikian', 'PR'],\n",
       " ['pula', 'RB'],\n",
       " ['laba', 'NN'],\n",
       " ['usaha', 'NN'],\n",
       " ['perseroan', 'NN'],\n",
       " [',', 'Z'],\n",
       " ['dalam', 'IN'],\n",
       " ['waktu', 'NN'],\n",
       " ['yang', 'SC'],\n",
       " ['sama', 'JJ'],\n",
       " ['terangkat', 'VB'],\n",
       " ['dari', 'IN'],\n",
       " ['semula', 'NN'],\n",
       " ['rp', 'SYM'],\n",
       " ['3,67', 'CD'],\n",
       " ['miliar', 'CD'],\n",
       " ['menjadi', 'VB'],\n",
       " ['rp', 'SYM'],\n",
       " ['19,65', 'CD'],\n",
       " ['miliar', 'CD']]"
      ]
     },
     "execution_count": 66,
     "metadata": {},
     "output_type": "execute_result"
    }
   ],
   "source": [
    "tagging(kalimat)"
   ]
  },
  {
   "cell_type": "code",
   "execution_count": null,
   "metadata": {},
   "outputs": [],
   "source": []
  },
  {
   "cell_type": "code",
   "execution_count": null,
   "metadata": {},
   "outputs": [],
   "source": []
  }
 ],
 "metadata": {
  "kernelspec": {
   "display_name": "Python 3",
   "language": "python",
   "name": "python3"
  },
  "language_info": {
   "codemirror_mode": {
    "name": "ipython",
    "version": 3
   },
   "file_extension": ".py",
   "mimetype": "text/x-python",
   "name": "python",
   "nbconvert_exporter": "python",
   "pygments_lexer": "ipython3",
   "version": "3.7.1"
  }
 },
 "nbformat": 4,
 "nbformat_minor": 2
}
