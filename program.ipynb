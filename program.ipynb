{
 "cells": [
  {
   "cell_type": "markdown",
   "metadata": {},
   "source": [
    "## <center>Natural Language Processing (Tugas 2)</center>\n",
    "<strong> NIM  : 1301178418 </strong><br>\n",
    "<strong> Nama : Bastomy </strong> <br>\n",
    "<strong> Kelas : ICM-39-GAB </strong>"
   ]
  },
  {
   "cell_type": "markdown",
   "metadata": {},
   "source": [
    "#### Deskripsi Tugas"
   ]
  },
  {
   "cell_type": "markdown",
   "metadata": {},
   "source": [
    "Deskripsi\n",
    "Buatlah program yang mengimplementasikan dua pendekatan POS-tagging. Sebagai input adalah\n",
    "kalimat Bahasa Indonesia and output adalah kalimat setelah setiap katanya diberi tag yang tepat.\n",
    "Kedua pendekatan yang harus diimplementasikan adalah:\n",
    "1. Baseline (menggunakan POS Tag yang paling sering muncul)\n",
    "2. HMM."
   ]
  },
  {
   "cell_type": "markdown",
   "metadata": {},
   "source": [
    "### Import library"
   ]
  },
  {
   "cell_type": "code",
   "execution_count": 1,
   "metadata": {},
   "outputs": [],
   "source": [
    "import pandas as pd\n",
    "import re\n",
    "import operator"
   ]
  },
  {
   "cell_type": "markdown",
   "metadata": {},
   "source": [
    "<strong>pandas</strong> =  untuk mempermudah membuat array menjadi data tabel <br>\n",
    "<strong>re</strong> = regular expression untuk membagi string menjadi array berdasarkan tab (\\t) <br>\n",
    "<strong>operator</strong> = untuk mengambil item"
   ]
  },
  {
   "cell_type": "markdown",
   "metadata": {},
   "source": [
    "### Fungsi untuk membaca data training dan testing menjadi array"
   ]
  },
  {
   "cell_type": "code",
   "execution_count": 2,
   "metadata": {},
   "outputs": [],
   "source": [
    "def read_data(train):\n",
    "    dt_train = {'kata':[], 'tag':[]}\n",
    "    for line in open(train):\n",
    "        if not line.startswith('<kalimat') and not line.startswith('</kalimat'):\n",
    "            baris = re.split(r'\\t+', line.rstrip('\\t'))\n",
    "            dt_train['kata'].append(baris[0].lower())\n",
    "            dt_train['tag'].append(baris[1].replace('\\n',''))\n",
    "    data = pd.DataFrame(dt_train)        \n",
    "    return data"
   ]
  },
  {
   "cell_type": "markdown",
   "metadata": {},
   "source": [
    "read_data adalah fungsi untuk membaca data .txt menjadi sebuah array <br>\n",
    "terdapat dua kolom array yaitu kata dan tag  <br>\n",
    "setiap baris data akan di looping dan di cek jika tidak berawalan <kalimat dan </kalimat maka akan lanjut ke tahap berikutnya yaitu membagi setiap baris menjadi array berdasarkan \\t (Tab) <br>\n",
    "kemudian akan di simpan ke dt_train dan di set menjadi Dataframe untuk di return"
   ]
  },
  {
   "cell_type": "markdown",
   "metadata": {},
   "source": [
    "### Fungsi untuk menghitung jumlah tag berdasarkan kata"
   ]
  },
  {
   "cell_type": "code",
   "execution_count": 3,
   "metadata": {},
   "outputs": [],
   "source": [
    "def post_tag_frequency(kata, data_training):\n",
    "    hitungTag = data_training.loc[data_training['kata'] == kata]['tag'].value_counts()\n",
    "    if(len(hitungTag) == 0):\n",
    "        return 'NN','0'\n",
    "    tagTerbaik = max(hitungTag.items(),key=operator.itemgetter(1))\n",
    "    return tagTerbaik[0],tagTerbaik[1]"
   ]
  },
  {
   "cell_type": "markdown",
   "metadata": {},
   "source": [
    "Menghitung jumlah tag berdasarkan kata  <br>\n",
    "variabel hitungTag akan menyimpan jumlah tag berdasarkan kata  <br>\n",
    "jika tag bernilai 0 maka akan di terun tag NN dengan jumlah 0  (untuk menghandle kata yg tidak terdaftar)<br>\n",
    "kemudian akan dicari max dari tag yg tersedia  <br>\n",
    "fungsi akan mengembalikan Tag dan jumlah tag nya <br>\n",
    "contoh (PRP   44) <br>"
   ]
  },
  {
   "cell_type": "markdown",
   "metadata": {},
   "source": [
    "### Fungsi prediksi tag BASELINE"
   ]
  },
  {
   "cell_type": "code",
   "execution_count": 4,
   "metadata": {},
   "outputs": [],
   "source": [
    "def baseline(data_testing,data_training):\n",
    "    index = 0 \n",
    "    tag_correct = 0\n",
    "    result = {'kata':[], 'prediksi':[], 'tag':[]}\n",
    "    akurasi = 0\n",
    "    for i in data_testing['kata']:\n",
    "        tag,count = post_tag_frequency(i, data_training)\n",
    "        if(tag == data_testing['tag'][index]):\n",
    "            tag_correct+=1\n",
    "        result['kata'].append(i)\n",
    "        result['prediksi'].append(tag)\n",
    "        result['tag'].append(data_testing['tag'][index])\n",
    "        index+=1\n",
    "    data = pd.DataFrame(result)\n",
    "    akurasi = (tag_correct/index)*100\n",
    "    return data,akurasi"
   ]
  },
  {
   "cell_type": "markdown",
   "metadata": {},
   "source": [
    "Baseline akan memprediksi Tag berdasarkan kemunculan terbanyak <br>\n",
    "cara kerja fungsi diatas adalah melooping semua kata beserta Tag <br>\n",
    "kemudian kata tersebut akan diprediksi Tag nya berdasarkan data training <br>\n",
    "post_tag_frequency akan mengembalikan tag beserta jumlahnya kemunculannya, tag dari post_tag_frequency akan dijadikan prediksi <br>\n",
    "akurasi dihitung dari jumlah tag yg benar dibagi dengan total seluruh kata"
   ]
  },
  {
   "cell_type": "markdown",
   "metadata": {},
   "source": [
    "### Read Data"
   ]
  },
  {
   "cell_type": "code",
   "execution_count": 5,
   "metadata": {},
   "outputs": [],
   "source": [
    "dt_training = read_data('corpus/training.txt')\n",
    "dt_testing = read_data('corpus/testing.txt')"
   ]
  },
  {
   "cell_type": "markdown",
   "metadata": {},
   "source": [
    "simpan data training dan testing kedalam variabel"
   ]
  },
  {
   "cell_type": "markdown",
   "metadata": {},
   "source": [
    "### NO 1. Baseline (menggunakan POS Tag yang paling sering muncul)"
   ]
  },
  {
   "cell_type": "code",
   "execution_count": 6,
   "metadata": {},
   "outputs": [],
   "source": [
    "data, akurasi = baseline(dt_testing,dt_training)"
   ]
  },
  {
   "cell_type": "markdown",
   "metadata": {},
   "source": [
    "10 Data testing dan prediksi TAG"
   ]
  },
  {
   "cell_type": "code",
   "execution_count": 8,
   "metadata": {},
   "outputs": [
    {
     "data": {
      "text/html": [
       "<div>\n",
       "<style scoped>\n",
       "    .dataframe tbody tr th:only-of-type {\n",
       "        vertical-align: middle;\n",
       "    }\n",
       "\n",
       "    .dataframe tbody tr th {\n",
       "        vertical-align: top;\n",
       "    }\n",
       "\n",
       "    .dataframe thead th {\n",
       "        text-align: right;\n",
       "    }\n",
       "</style>\n",
       "<table border=\"1\" class=\"dataframe\">\n",
       "  <thead>\n",
       "    <tr style=\"text-align: right;\">\n",
       "      <th></th>\n",
       "      <th>kata</th>\n",
       "      <th>prediksi</th>\n",
       "      <th>tag</th>\n",
       "    </tr>\n",
       "  </thead>\n",
       "  <tbody>\n",
       "    <tr>\n",
       "      <th>0</th>\n",
       "      <td>perusahaan</td>\n",
       "      <td>NN</td>\n",
       "      <td>NN</td>\n",
       "    </tr>\n",
       "    <tr>\n",
       "      <th>1</th>\n",
       "      <td>ritel</td>\n",
       "      <td>NN</td>\n",
       "      <td>NN</td>\n",
       "    </tr>\n",
       "    <tr>\n",
       "      <th>2</th>\n",
       "      <td>pt</td>\n",
       "      <td>NNP</td>\n",
       "      <td>NNP</td>\n",
       "    </tr>\n",
       "    <tr>\n",
       "      <th>3</th>\n",
       "      <td>matahari</td>\n",
       "      <td>NNP</td>\n",
       "      <td>NNP</td>\n",
       "    </tr>\n",
       "    <tr>\n",
       "      <th>4</th>\n",
       "      <td>putra</td>\n",
       "      <td>NN</td>\n",
       "      <td>NNP</td>\n",
       "    </tr>\n",
       "    <tr>\n",
       "      <th>5</th>\n",
       "      <td>prima</td>\n",
       "      <td>NNP</td>\n",
       "      <td>NNP</td>\n",
       "    </tr>\n",
       "    <tr>\n",
       "      <th>6</th>\n",
       "      <td>tbk</td>\n",
       "      <td>NNP</td>\n",
       "      <td>NNP</td>\n",
       "    </tr>\n",
       "    <tr>\n",
       "      <th>7</th>\n",
       "      <td>mppa</td>\n",
       "      <td>NN</td>\n",
       "      <td>NNP</td>\n",
       "    </tr>\n",
       "    <tr>\n",
       "      <th>8</th>\n",
       "      <td>dalam</td>\n",
       "      <td>IN</td>\n",
       "      <td>IN</td>\n",
       "    </tr>\n",
       "    <tr>\n",
       "      <th>9</th>\n",
       "      <td>tiga</td>\n",
       "      <td>CD</td>\n",
       "      <td>CD</td>\n",
       "    </tr>\n",
       "  </tbody>\n",
       "</table>\n",
       "</div>"
      ],
      "text/plain": [
       "         kata prediksi  tag\n",
       "0  perusahaan       NN   NN\n",
       "1       ritel       NN   NN\n",
       "2          pt      NNP  NNP\n",
       "3    matahari      NNP  NNP\n",
       "4       putra       NN  NNP\n",
       "5       prima      NNP  NNP\n",
       "6         tbk      NNP  NNP\n",
       "7        mppa       NN  NNP\n",
       "8       dalam       IN   IN\n",
       "9        tiga       CD   CD"
      ]
     },
     "execution_count": 8,
     "metadata": {},
     "output_type": "execute_result"
    }
   ],
   "source": [
    "data[:10]"
   ]
  },
  {
   "cell_type": "markdown",
   "metadata": {},
   "source": [
    "Akurasi Tag (persen)"
   ]
  },
  {
   "cell_type": "code",
   "execution_count": 12,
   "metadata": {},
   "outputs": [
    {
     "name": "stdout",
     "output_type": "stream",
     "text": [
      "akurasi  87.97595190380761  persen\n"
     ]
    }
   ],
   "source": [
    "print(\"akurasi \", akurasi,\" persen\")"
   ]
  },
  {
   "cell_type": "markdown",
   "metadata": {},
   "source": [
    "### No 2 HMM"
   ]
  },
  {
   "cell_type": "markdown",
   "metadata": {},
   "source": [
    "### Import library"
   ]
  },
  {
   "cell_type": "code",
   "execution_count": 13,
   "metadata": {},
   "outputs": [],
   "source": [
    "from nltk import word_tokenize\n",
    "from sklearn import tree\n",
    "from sklearn.feature_extraction import DictVectorizer\n",
    "from sklearn.pipeline import Pipeline\n",
    "import time"
   ]
  },
  {
   "cell_type": "markdown",
   "metadata": {},
   "source": [
    "import library yang akan digunakan seperti :<br>\n",
    "<strong>word_tokenize</strong> : untuk membuat kalimat menjadi token<br>\n",
    "<strong>tree</strong> : untuk membuat DecisionTreeClassifier<br>\n",
    "<strong>DictVectorizer</strong> : untuk merubah feature menjadi matrix vektor<br>\n",
    "<strong>time</strong> : untuk menghitung lama program di eksekusi<br>"
   ]
  },
  {
   "cell_type": "markdown",
   "metadata": {},
   "source": [
    "### Fungsi untuk mengekstrak data menjadi kalimat + tag"
   ]
  },
  {
   "cell_type": "code",
   "execution_count": 14,
   "metadata": {},
   "outputs": [],
   "source": [
    "def read_data_sentences(data):\n",
    "    sentences = []\n",
    "    tags = []\n",
    "    with open(data) as f:\n",
    "        content = f.readlines()\n",
    "    contents = [x.strip() for x in content]\n",
    "    sentence = []\n",
    "    tag = []\n",
    "    for i in contents:\n",
    "        if not i.startswith('<kalimat') and not i.startswith('</kalimat'):\n",
    "            content_part = i.split('\\t')\n",
    "            if (len(content_part)==2):\n",
    "                sentence.append(content_part[0])\n",
    "                tag.append(content_part[1])\n",
    "        elif i.startswith('</kalimat'):\n",
    "            sentences.append(sentence)\n",
    "            tags.append(tag)\n",
    "            sentence = []\n",
    "            tag = []\n",
    "    return sentences,tags    "
   ]
  },
  {
   "cell_type": "code",
   "execution_count": null,
   "metadata": {},
   "outputs": [],
   "source": []
  },
  {
   "cell_type": "markdown",
   "metadata": {},
   "source": [
    "<strong>Contoh:</strong> <br>\n",
    "<table style=\"border: 1px solid black;\">\n",
    "\t<tr style=\"border: 1px solid black;\">\n",
    "\t\t<td style=\"border: 1px solid black;\" style=\"border: 1px solid black;\">Kalimat</td>\n",
    "\t\t<td style=\"border: 1px solid black;\">namun</td>\n",
    "\t\t<td style=\"border: 1px solid black;\">laba</td>\n",
    "\t\t<td style=\"border: 1px solid black;\">usaha</td>\n",
    "\t\t<td style=\"border: 1px solid black;\">dalam</td>\n",
    "\t\t<td style=\"border: 1px solid black;\">periode</td>\n",
    "\t\t<td style=\"border: 1px solid black;\">tersebut</td>\n",
    "\t\t<td style=\"border: 1px solid black;\">menyusut</td>\n",
    "\t\t<td style=\"border: 1px solid black;\">dari</td>\n",
    "\t\t<td style=\"border: 1px solid black;\">semula</td>\n",
    "\t\t<td style=\"border: 1px solid black;\">Rp</td>\n",
    "\t\t<td style=\"border: 1px solid black;\">58,27</td>\n",
    "\t\t<td style=\"border: 1px solid black;\">miliar</td>\n",
    "\t\t<td style=\"border: 1px solid black;\">menjadi</td>\n",
    "\t\t<td style=\"border: 1px solid black;\">Rp</td>\n",
    "\t\t<td style=\"border: 1px solid black;\">41,39</td>\n",
    "\t\t<td style=\"border: 1px solid black;\">miliar</td>\n",
    "\t\t<td style=\"border: 1px solid black;\">.</td>\n",
    "\t</tr>\n",
    "\t<tr style=\"border: 1px solid black;\">\n",
    "\t\t<td style=\"border: 1px solid black;\" style=\"border: 1px solid black;\">Tag</td>\n",
    "\t\t<td style=\"border: 1px solid black;\">CC</td>\n",
    "\t\t<td style=\"border: 1px solid black;\">NN</td>\n",
    "\t\t<td style=\"border: 1px solid black;\">NN</td>\n",
    "\t\t<td style=\"border: 1px solid black;\">IN</td>\n",
    "\t\t<td style=\"border: 1px solid black;\">NN</td>\n",
    "\t\t<td style=\"border: 1px solid black;\">PR</td>\n",
    "\t\t<td style=\"border: 1px solid black;\">VB</td>\n",
    "\t\t<td style=\"border: 1px solid black;\">IN</td>\n",
    "\t\t<td style=\"border: 1px solid black;\">NN</td>\n",
    "\t\t<td style=\"border: 1px solid black;\">SYM</td>\n",
    "\t\t<td style=\"border: 1px solid black;\">CD</td>\n",
    "\t\t<td style=\"border: 1px solid black;\">CD</td>\n",
    "\t\t<td style=\"border: 1px solid black;\">VB</td>\n",
    "\t\t<td style=\"border: 1px solid black;\">SYM</td>\n",
    "\t\t<td style=\"border: 1px solid black;\">CD</td>\n",
    "\t\t<td style=\"border: 1px solid black;\">CD</td>\n",
    "\t\t<td style=\"border: 1px solid black;\">Z</td>\n",
    "\t</tr>\n",
    "</table>"
   ]
  },
  {
   "cell_type": "code",
   "execution_count": null,
   "metadata": {},
   "outputs": [],
   "source": []
  },
  {
   "cell_type": "code",
   "execution_count": 15,
   "metadata": {},
   "outputs": [],
   "source": [
    "def extract_features(sentence, index):\n",
    "    return {\n",
    "        'word': sentence[index],\n",
    "        'prefix-1': sentence[index][0],\n",
    "        'prefix-2': sentence[index][:2],\n",
    "        'prefix-3': sentence[index][:3],\n",
    "        'suffix-1': sentence[index][-1],\n",
    "        'suffix-2': sentence[index][-2:],\n",
    "        'suffix-3': sentence[index][-3:],\n",
    "        'prev_word': '' if index == 0 else sentence[index - 1],\n",
    "        'next_word': '' if index == len(sentence) - 1 else sentence[index + 1],\n",
    "    }"
   ]
  },
  {
   "cell_type": "code",
   "execution_count": 16,
   "metadata": {},
   "outputs": [],
   "source": [
    "def transform_to_dataset(sentences, tags):\n",
    "    X, y = [], []\n",
    "    for sentence_idx in range(len(sentences)):\n",
    "        for index in range(len(sentences[sentence_idx])):\n",
    "            X.append(extract_features(sentences[sentence_idx], index))\n",
    "            y.append(tags[sentence_idx][index])\n",
    "    return X, y"
   ]
  },
  {
   "cell_type": "code",
   "execution_count": 17,
   "metadata": {},
   "outputs": [],
   "source": [
    "training_sentences,training_tags = read_data_sentences('corpus/training.txt')\n",
    "testing_sentences,testing_tags = read_data_sentences('corpus/testing.txt')"
   ]
  },
  {
   "cell_type": "code",
   "execution_count": 18,
   "metadata": {},
   "outputs": [],
   "source": [
    "X, y = transform_to_dataset(training_sentences, training_tags)"
   ]
  },
  {
   "cell_type": "code",
   "execution_count": 19,
   "metadata": {},
   "outputs": [
    {
     "name": "stdout",
     "output_type": "stream",
     "text": [
      "Training completed in  399.41056776046753  seconds\n"
     ]
    }
   ],
   "source": [
    "start = time.time()\n",
    "clf = Pipeline([\n",
    "    ('vectorizer', DictVectorizer(sparse=False)),\n",
    "    ('classifier', tree.DecisionTreeClassifier(criterion='entropy'))\n",
    "])\n",
    "clf.fit(X, y)\n",
    "finish = time.time()\n",
    "print('Training completed in ',finish-start,' seconds')"
   ]
  },
  {
   "cell_type": "code",
   "execution_count": 20,
   "metadata": {},
   "outputs": [
    {
     "name": "stdout",
     "output_type": "stream",
     "text": [
      "Accuracy:\n",
      "94.78957915831663 persen\n"
     ]
    }
   ],
   "source": [
    "X_test, y_test = transform_to_dataset(testing_sentences, testing_tags)\n",
    " \n",
    "print(\"Accuracy:\")\n",
    "print(clf.score(X_test, y_test)*100,'persen')"
   ]
  },
  {
   "cell_type": "code",
   "execution_count": 21,
   "metadata": {},
   "outputs": [],
   "source": [
    "# Test model yang sudah dilatih dengan kalimat masukan bebas\n",
    "from nltk import word_tokenize\n",
    "\n",
    "def pos_tag(sentence):\n",
    "    tags = clf.predict([extract_features(sentence, index) for index in range(len(sentence))])\n",
    "    data = pd.DataFrame({\"kata\":sentence,'tag':tags})\n",
    "    return data\n"
   ]
  },
  {
   "cell_type": "code",
   "execution_count": 24,
   "metadata": {},
   "outputs": [],
   "source": [
    "result = pos_tag(word_tokenize('Pemerintah Kabupaten Serang memberikan insentif kepada 1.796 Kader Pos Keluarga Berencana dan Kader Subpos KB.'))"
   ]
  },
  {
   "cell_type": "code",
   "execution_count": 25,
   "metadata": {},
   "outputs": [
    {
     "data": {
      "text/html": [
       "<div>\n",
       "<style scoped>\n",
       "    .dataframe tbody tr th:only-of-type {\n",
       "        vertical-align: middle;\n",
       "    }\n",
       "\n",
       "    .dataframe tbody tr th {\n",
       "        vertical-align: top;\n",
       "    }\n",
       "\n",
       "    .dataframe thead th {\n",
       "        text-align: right;\n",
       "    }\n",
       "</style>\n",
       "<table border=\"1\" class=\"dataframe\">\n",
       "  <thead>\n",
       "    <tr style=\"text-align: right;\">\n",
       "      <th></th>\n",
       "      <th>kata</th>\n",
       "      <th>tag</th>\n",
       "    </tr>\n",
       "  </thead>\n",
       "  <tbody>\n",
       "    <tr>\n",
       "      <th>0</th>\n",
       "      <td>Pemerintah</td>\n",
       "      <td>NN</td>\n",
       "    </tr>\n",
       "    <tr>\n",
       "      <th>1</th>\n",
       "      <td>Kabupaten</td>\n",
       "      <td>NNP</td>\n",
       "    </tr>\n",
       "    <tr>\n",
       "      <th>2</th>\n",
       "      <td>Serang</td>\n",
       "      <td>NNP</td>\n",
       "    </tr>\n",
       "    <tr>\n",
       "      <th>3</th>\n",
       "      <td>memberikan</td>\n",
       "      <td>VB</td>\n",
       "    </tr>\n",
       "    <tr>\n",
       "      <th>4</th>\n",
       "      <td>insentif</td>\n",
       "      <td>JJ</td>\n",
       "    </tr>\n",
       "    <tr>\n",
       "      <th>5</th>\n",
       "      <td>kepada</td>\n",
       "      <td>IN</td>\n",
       "    </tr>\n",
       "    <tr>\n",
       "      <th>6</th>\n",
       "      <td>1.796</td>\n",
       "      <td>CD</td>\n",
       "    </tr>\n",
       "    <tr>\n",
       "      <th>7</th>\n",
       "      <td>Kader</td>\n",
       "      <td>NNP</td>\n",
       "    </tr>\n",
       "    <tr>\n",
       "      <th>8</th>\n",
       "      <td>Pos</td>\n",
       "      <td>NNP</td>\n",
       "    </tr>\n",
       "    <tr>\n",
       "      <th>9</th>\n",
       "      <td>Keluarga</td>\n",
       "      <td>NNP</td>\n",
       "    </tr>\n",
       "    <tr>\n",
       "      <th>10</th>\n",
       "      <td>Berencana</td>\n",
       "      <td>NNP</td>\n",
       "    </tr>\n",
       "    <tr>\n",
       "      <th>11</th>\n",
       "      <td>dan</td>\n",
       "      <td>CC</td>\n",
       "    </tr>\n",
       "    <tr>\n",
       "      <th>12</th>\n",
       "      <td>Kader</td>\n",
       "      <td>NNP</td>\n",
       "    </tr>\n",
       "    <tr>\n",
       "      <th>13</th>\n",
       "      <td>Subpos</td>\n",
       "      <td>NNP</td>\n",
       "    </tr>\n",
       "    <tr>\n",
       "      <th>14</th>\n",
       "      <td>KB</td>\n",
       "      <td>NNP</td>\n",
       "    </tr>\n",
       "    <tr>\n",
       "      <th>15</th>\n",
       "      <td>.</td>\n",
       "      <td>Z</td>\n",
       "    </tr>\n",
       "  </tbody>\n",
       "</table>\n",
       "</div>"
      ],
      "text/plain": [
       "          kata  tag\n",
       "0   Pemerintah   NN\n",
       "1    Kabupaten  NNP\n",
       "2       Serang  NNP\n",
       "3   memberikan   VB\n",
       "4     insentif   JJ\n",
       "5       kepada   IN\n",
       "6        1.796   CD\n",
       "7        Kader  NNP\n",
       "8          Pos  NNP\n",
       "9     Keluarga  NNP\n",
       "10   Berencana  NNP\n",
       "11         dan   CC\n",
       "12       Kader  NNP\n",
       "13      Subpos  NNP\n",
       "14          KB  NNP\n",
       "15           .    Z"
      ]
     },
     "execution_count": 25,
     "metadata": {},
     "output_type": "execute_result"
    }
   ],
   "source": [
    "result"
   ]
  },
  {
   "cell_type": "code",
   "execution_count": 26,
   "metadata": {},
   "outputs": [],
   "source": [
    "def read_file_init_table(fname):\n",
    "    tag_count = {}\n",
    "    tag_count['<start>'] = 0\n",
    "    word_tag = {}\n",
    "    tag_trans = {}\n",
    "    with open(fname) as f:\n",
    "        content = f.readlines()\n",
    "    # you may also want to remove whitespace characters like `\\n` at the end of each line\n",
    "    content = [x.strip() for x in content]\n",
    "    idx_line = 0\n",
    "    is_first_word = 0\n",
    "    \n",
    "    while idx_line < len(content):\n",
    "        prev_tag = '<start>'\n",
    "        while not content[idx_line].startswith('</kalimat'):\n",
    "            if  not content[idx_line].startswith('<kalimat'):\n",
    "                content_part = content[idx_line].split('\\t')\n",
    "                if content_part[1] in tag_count:\n",
    "                    tag_count[content_part[1]] += 1\n",
    "                else:\n",
    "                    tag_count[content_part[1]] = 1\n",
    "                    \n",
    "                current_word_tag = content_part[0]+','+content_part[1]\n",
    "                if current_word_tag in word_tag:\n",
    "                    word_tag[current_word_tag] += 1\n",
    "                else:    \n",
    "                    word_tag[current_word_tag] = 1\n",
    "                    \n",
    "                if is_first_word == 1:\n",
    "                    current_tag_trans = '<start>,'+content_part[1]\n",
    "                    is_first_word = 0\n",
    "                else:\n",
    "                    current_tag_trans = prev_tag+','+content_part[1]\n",
    "                    \n",
    "                if current_tag_trans in tag_trans:\n",
    "                    tag_trans[current_tag_trans] += 1\n",
    "                else:\n",
    "                    tag_trans[current_tag_trans] = 1                    \n",
    "                prev_tag = content_part[1]   \n",
    "                \n",
    "            else:\n",
    "                tag_count['<start>'] += 1\n",
    "                is_first_word = 1\n",
    "            idx_line = idx_line + 1\n",
    "\n",
    "        idx_line = idx_line+1       \n",
    "    return tag_count, word_tag, tag_trans"
   ]
  },
  {
   "cell_type": "code",
   "execution_count": 27,
   "metadata": {},
   "outputs": [],
   "source": [
    "tag_count, word_tag, tag_trans = read_file_init_table('corpus/training.txt')"
   ]
  },
  {
   "cell_type": "code",
   "execution_count": null,
   "metadata": {},
   "outputs": [],
   "source": []
  },
  {
   "cell_type": "code",
   "execution_count": 30,
   "metadata": {},
   "outputs": [],
   "source": [
    "def create_trans_prob_table(tag_trans, tag_count):\n",
    "    trans_prob = {}\n",
    "    for tag1 in tag_count.keys():\n",
    "        for tag2 in tag_count.keys():\n",
    "            #print('tag1 = ')\n",
    "            #print(tag1)\n",
    "            trans_idx = tag1+','+tag2\n",
    "            #print('trans_idx = ')\n",
    "            #print(trans_idx)\n",
    "            if trans_idx in tag_trans:\n",
    "                #print(trans_idx)\n",
    "                trans_prob[trans_idx] = tag_trans[trans_idx]/tag_count[tag1]\n",
    "    return trans_prob"
   ]
  },
  {
   "cell_type": "code",
   "execution_count": 31,
   "metadata": {},
   "outputs": [],
   "source": [
    "trans_prob = create_trans_prob_table(tag_trans, tag_count)"
   ]
  },
  {
   "cell_type": "code",
   "execution_count": 35,
   "metadata": {},
   "outputs": [],
   "source": [
    "def create_emission_prob_table(word_tag, tag_count):\n",
    "    emission_prob = {}\n",
    "    for word_tag_entry in word_tag.keys():\n",
    "        word_tag_split = word_tag_entry.split(',')\n",
    "        current_word = word_tag_split[0]\n",
    "        current_tag = word_tag_split[1]\n",
    "        if (len(word_tag_split)!=3):\n",
    "            emission_key = current_word+','+current_tag\n",
    "            emission_prob[emission_key] = word_tag[word_tag_entry]/tag_count[current_tag] \n",
    "    return emission_prob"
   ]
  },
  {
   "cell_type": "code",
   "execution_count": 36,
   "metadata": {},
   "outputs": [],
   "source": [
    "emission_prob = create_emission_prob_table(word_tag, tag_count)"
   ]
  },
  {
   "cell_type": "code",
   "execution_count": null,
   "metadata": {},
   "outputs": [],
   "source": [
    "def viterbi(trans_prob, emission_prob, tag_count, sentence):\n",
    "    #initialization\n",
    "    viterbi_mat = {}\n",
    "    tag_sequence = []\n",
    "    \n",
    "    sentence_words = sentence.split()\n",
    "    for i in range(0,len(sentence_words)):\n",
    "        \n",
    "    \n",
    "    return viterbi_mat, tag_sequence"
   ]
  },
  {
   "cell_type": "code",
   "execution_count": null,
   "metadata": {},
   "outputs": [],
   "source": []
  }
 ],
 "metadata": {
  "kernelspec": {
   "display_name": "Python 3",
   "language": "python",
   "name": "python3"
  },
  "language_info": {
   "codemirror_mode": {
    "name": "ipython",
    "version": 3
   },
   "file_extension": ".py",
   "mimetype": "text/x-python",
   "name": "python",
   "nbconvert_exporter": "python",
   "pygments_lexer": "ipython3",
   "version": "3.7.1"
  }
 },
 "nbformat": 4,
 "nbformat_minor": 2
}
